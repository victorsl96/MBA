{
 "cells": [
  {
   "cell_type": "markdown",
   "metadata": {},
   "source": [
    "# Será que podemos comparar ideologias políticas a partir de tweets?\n",
    "\n",
    "Aluno: Victor Souza Lopes. MBA em ciência de dados - Unifor. Introdução a Python.\n",
    "email: victorsl96@gmail.com\n",
    "\n",
    "ideologia: conjunto de convicções filosóficas, sociais, políticas etc. de um indivíduo ou grupo de indivíduos.\n",
    "\n",
    "- análise gráfica comparativa da frequência de palavras relacionadas a tópicos: \n",
    "    religião, educação, orientação sexual, identidade de gênero, economia, saúde, porte de armas, combate a pobreza\n",
    "        ex: A quantidade de vezes em que o Bolsonaro fala de drogas e segurança é muito maior que a do Lula, que mostra maior relevância desse tema na ideologia do Bolsonaro."
   ]
  },
  {
   "cell_type": "code",
   "execution_count": 23,
   "metadata": {},
   "outputs": [],
   "source": [
    "# Seção de importação dos módulos necessários\n",
    "import re\n",
    "import pandas as pd\n",
    "import unicodedata as uni"
   ]
  },
  {
   "cell_type": "code",
   "execution_count": 24,
   "metadata": {},
   "outputs": [],
   "source": [
    "def get_data():\n",
    "    '''Ler os dados da fonte em JSON e retorna em um dataframe.'''\n",
    "    \n",
    "    # Abrir os arquivos e salvar cada um em um dataframe\n",
    "    with open('dataset/jairbolsonaro.json','r') as file_01:\n",
    "        df_01=pd.read_json(file_01)\n",
    "    with open('dataset/LulaOficial.json','r') as file_02:\n",
    "        df_02=pd.read_json(file_02)\n",
    "    \n",
    "    # Renomear as colunas\n",
    "    df_01.rename(columns={'full_text':'Bolsonaro'}, inplace=True)\n",
    "    df_02.rename(columns={'full_text':'Lula'}, inplace=True)\n",
    "    \n",
    "    # Concatenar os dois dataframes em um só\n",
    "    cols=[df_01['Bolsonaro'], df_02['Lula']]\n",
    "    dataframe=pd.concat(cols,axis=1)\n",
    "\n",
    "    return dataframe"
   ]
  },
  {
   "cell_type": "code",
   "execution_count": 25,
   "metadata": {},
   "outputs": [],
   "source": [
    "def clean(tweet):\n",
    "    '''Normalizar cada palavra, remover links, hashtags, números, menções, pontuação, emogis e stopwords de um tweet e retorna uma lista com as palavras restantes'''\n",
    "\n",
    "    stopwords=('de', 'a', 'pra', 'fazer','estar','lula','none', 'o', 'que', 'd','e', 'do', 'da', 'em', 'um', 'nao', 'para', 'e', 'com',\n",
    "               'uma', 'os', 'no', 'se', 'na', 'por', 'mais', 'as', 'dos', 'como', 'mas', 'foi', 'ao', 'ele', 'das', 'tem', 'seu', 'sua',\n",
    "               'ou', 'ser', 'quando', 'muito', 'ha', 'nos', 'ja', 'esta', 'eu', 'também', 'so', 'pelo', 'pela', 'ate', 'isso', 'ela', 'entre',\n",
    "               'era', 'depois', 'sem', 'mesmo', 'aos', 'ter', 'seus', 'quem', 'nas', 'me', 'esse', 'eles', 'estao', 'voce', 'tinha', 'foram',\n",
    "               'essa', 'num', 'nem', 'suas', 'meu', 'minha', 'numa', 'pelos', 'elas', 'havia', 'seja', 'qual', 'sera', 'tenho', 'lhe', 'deles',\n",
    "               'essas', 'esses', 'pelas', 'este', 'fosse', 'dele', 'tu', 'te', 'voces', 'vos', 'lhes', 'meus', 'minhas', 'teu', 'tua', 'teus',\n",
    "               'tuas', 'nosso', 'nossa', 'nossos', 'nossas', 'dela', 'delas', 'esta', 'estes', 'estas', 'aquele', 'aquela', 'aqueles', 'aquelas',\n",
    "               'isto', 'aquilo', 'estou', 'esta', 'estamos', 'estao', 'estive', 'esteve', 'estivemos', 'estiveram', 'estava', 'estavamos', 'estavam',\n",
    "               'estivera', 'estiveramos', 'esteja', 'estejamos', 'estejam', 'estivesse', 'estivessemos', 'estivessem', 'estiver', 'estivermos',\n",
    "               'estiverem', 'hei', 'ha', 'havemos', 'hao', 'houve', 'houvemos', 'houveram', 'houvera', 'houveramos', 'haja', 'hajamos', 'hajam',\n",
    "               'houvesse', 'houvessemos', 'houvessem', 'houver', 'houvermos', 'houverem', 'houverei', 'houvera', 'houveremos', 'houverao', 'houveria',\n",
    "               'houveriamos', 'houveriam', 'sou', 'somos', 'sao', 'era', 'eramos', 'eram', 'fui', 'foi', 'fomos', 'foram', 'fora', 'foramos', 'seja',\n",
    "               'sejamos', 'sejam', 'fosse', 'fossemos', 'fossem', 'for', 'formos', 'forem', 'serei', 'sera', 'seremos', 'serao', 'seria', 'seriamos',\n",
    "               'seriam', 'tenho', 'tem', 'temos', 'tem', 'tinha', 'tinhamos', 'tinham', 'tive', 'teve', 'tivemos', 'tiveram', 'tivera', 'tiveramos',\n",
    "               'tenha', 'tenhamos', 'tenham', 'tivesse', 'tivessemos', 'tivessem', 'tiver', 'tivermos', 'tiverem', 'terei', 'tera', 'teremos', 'terao',\n",
    "               'teria', 'teriamos', 'teriam')\n",
    "\n",
    "    # if para garantir que a entrada de dados para esta função seja apenas de strings. \n",
    "    if type(tweet) != str:\n",
    "        tweet='none'\n",
    "\n",
    "    # normalizar as palavras, removendo acentuação e transformar todas as letras em minúsculas\n",
    "    tweet = uni.normalize('NFD', tweet).encode('ASCII', 'ignore').decode('utf-8').lower()\n",
    "    \n",
    "    # padrão para remover links\n",
    "    url_pattern=r'(?i)\\b((?:https?://|www\\d{0,3}[.]|[a-z0-9.\\-]+[.][a-z]{2,4}/)(?:[^\\s()<>]+|\\(([^\\s()<>]+|(\\([^\\s()<>]+\\)))*\\))+(?:\\(([^\\s()<>]+|(\\([^\\s()<>]+\\)))*\\)|[^\\s`!()\\[\\]{};:\\'\\\".,<>?«»“”‘’]))'\n",
    "    \n",
    "    # padrão para remover hashtags\n",
    "    tags_pattern=r'\\#([a-zA-Z0-9_]{1,50})'\n",
    "    \n",
    "    # padrão para remover menções (ex: @user)\n",
    "    mentions_pattern=r'\\@([a-zA-Z0-9_]{1,50})'    \n",
    "    \n",
    "    # remover símbolos, pontuação e números\n",
    "    rest_pattern=r'[^\\w\\s]+|\\d+'\n",
    "    \n",
    "    # compilar os padrões de regex em um só\n",
    "    patterns=re.compile('|'.join([url_pattern,tags_pattern,mentions_pattern,rest_pattern]))\n",
    "\n",
    "    # substituir todos os objetos encontrados pelos padrões por strings vazias\n",
    "    tweet = re.sub(patterns,'',tweet)\n",
    "\n",
    "    # retornar uma lista com as palavras restantes sem as stopwords\n",
    "    clean_tweet=[word for word in tweet.split() if word not in stopwords]\n",
    "    \n",
    "    return clean_tweet"
   ]
  },
  {
   "cell_type": "code",
   "execution_count": 26,
   "metadata": {},
   "outputs": [],
   "source": [
    "def count_words(tweets):\n",
    "    '''Contar a frequência de palavras nos tweets e retorna uma lista de conjuntos com a palavra e a frequência nos tweets'''\n",
    "\n",
    "    words={}\n",
    "\n",
    "    for tweet in tweets:\n",
    "        for word in clean(tweet):\n",
    "            if word in words.keys():\n",
    "                words[word] += 1\n",
    "            else:\n",
    "                words[word] = 1\n",
    "\n",
    "    return sorted(words.items(),key= lambda x:x[1], reverse=True)"
   ]
  },
  {
   "cell_type": "code",
   "execution_count": 27,
   "metadata": {},
   "outputs": [],
   "source": [
    "def filter_data(data,themes):\n",
    "    '''Filtrar a lista de conjuntos com base em um ou mais temas e retorna uma lista com os temas escolhidos'''\n",
    "\n",
    "    result=[]\n",
    "    \n",
    "    for theme in themes:\n",
    "        for set in data:\n",
    "            if theme in set:\n",
    "                result.append(set)\n",
    "    \n",
    "    return result\n"
   ]
  },
  {
   "cell_type": "code",
   "execution_count": 28,
   "metadata": {},
   "outputs": [],
   "source": [
    "# salvar dataframe com tweets em uma variável\n",
    "data = get_data()\n",
    "\n",
    "# separar os dados do Bolsonaro e do Lula em variáveis diferentes\n",
    "b_data = data['Bolsonaro'] #lista de tweets\n",
    "l_data = data['Lula'] #lista de tweets\n",
    "\n",
    "# as duas variáveis seguintes guardam todas as palavras chave (função de clean() é chamada pela função count_words())\n",
    "b_count = count_words(b_data) #lista de conjuntos (keyword, ocurrence)\n",
    "l_count = count_words(l_data) #lista de conjuntos (keyword, ocurrence)"
   ]
  },
  {
   "cell_type": "code",
   "execution_count": 29,
   "metadata": {},
   "outputs": [],
   "source": [
    "# esta variável está em uma célula separada para facilitar alterações, adicionando ou removendo temas sem precisar reatribuir os valores de outras variáveis\n",
    "themes = ['saude', 'educacao', 'drogas', 'seguranca', 'economia', 'moradia', 'corrupcao', 'inclusao','armas','pobreza']"
   ]
  },
  {
   "cell_type": "code",
   "execution_count": 30,
   "metadata": {},
   "outputs": [],
   "source": [
    "# as variáveis d1 e d2 guardam as palavras filtradas pela função filter_data()\n",
    "d1 = filter_data(b_count,themes)\n",
    "d2 = filter_data(l_count,themes)\n",
    "\n",
    "# trasformar os dados de cada um em um dataframe\n",
    "df1 = pd.DataFrame(d1,columns=['Palavra','Bolsonaro'])\n",
    "df2 = pd.DataFrame(d2,columns=['Palavra','Lula'])\n",
    "\n",
    "# combinar os dois dataframes em um só para a plotagem no gráfico\n",
    "df = df1.set_index('Palavra').join(df2.set_index('Palavra'))"
   ]
  },
  {
   "cell_type": "code",
   "execution_count": 33,
   "metadata": {},
   "outputs": [
    {
     "data": {
      "image/png": "[encoded data removed]",
      "text/plain": [
       "<Figure size 432x288 with 1 Axes>"
      ]
     },
     "metadata": {
      "needs_background": "light"
     },
     "output_type": "display_data"
    }
   ],
   "source": [
    "# gráfico de barras da frequência de palavras\n",
    "ax = df.plot.barh(color={'Bolsonaro':'green','Lula':'red'}, title='Frequência de palavras')"
   ]
  }
 ],
 "metadata": {
  "interpreter": {
   "hash": "e163f6dc755e3f5ee4e51757169cbf4c5bf61c999acb41dad94c865ecb280cf3"
  },
  "kernelspec": {
   "display_name": "Python 3.9.6 64-bit",
   "language": "python",
   "name": "python3"
  },
  "language_info": {
   "codemirror_mode": {
    "name": "ipython",
    "version": 3
   },
   "file_extension": ".py",
   "mimetype": "text/x-python",
   "name": "python",
   "nbconvert_exporter": "python",
   "pygments_lexer": "ipython3",
   "version": "3.9.6"
  },
  "orig_nbformat": 4
 },
 "nbformat": 4,
 "nbformat_minor": 2
}
