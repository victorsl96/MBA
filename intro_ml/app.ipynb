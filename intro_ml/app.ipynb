{
 "cells": [
  {
   "cell_type": "code",
   "execution_count": null,
   "metadata": {},
   "outputs": [],
   "source": [
    "import pandas as pd\n",
    "import numpy as np\n",
    "import seaborn as sns\n",
    "import matplotlib.pyplot as plt\n",
    "\n",
    "from sklearn.model_selection import train_test_split\n",
    "from sklearn.metrics import accuracy_score\n",
    "from sklearn.linear_model import LinearRegression\n",
    "from sklearn.model_selection import cross_val_score\n",
    "from sklearn.pipeline import Pipeline\n",
    "from sklearn.preprocessing import StandardScaler\n",
    "from sklearn.linear_model import LinearRegression\n",
    "from sklearn.tree import DecisionTreeRegressor\n",
    "from sklearn.ensemble import RandomForestRegressor\n",
    "from sklearn.model_selection import cross_val_score\n",
    "from sklearn.metrics import mean_squared_error"
   ]
  },
  {
   "cell_type": "code",
   "execution_count": null,
   "metadata": {},
   "outputs": [],
   "source": [
    "data = pd.read_csv('NBA_Players.csv') #LER OS DADOS\n",
    "data.columns = [columns.replace(' ', '') for columns in data.columns] #REMOVENDO ESPAÇO DOS NOMES DAS COLUNAS\n",
    "data.drop(columns=['URL','THM_THA','FTM_FTA','FGM_FGA'], inplace=True) #REMOVENDO URL E DADOS COMPOSTOS\n",
    "data.drop(data.loc[data['SALARY'] == 'Not signed'].index, inplace=True) #REMOVENDO JOGADORES COM SALÁRIO NÃO DIVULGADO\n",
    "data.dropna(inplace=True) #REMOVENDO LINHAS COM DADOS VAZIOS\n",
    "\n",
    "data['SALARY']=data['SALARY'].str.replace(',','') #REMOVEDO VÍRGULAS DO SALÁRIO\n",
    "data['SALARY'] = data['SALARY'].astype(float) #TRANSFORMANDO O SALÁRIO EM FLOAT\n",
    "data['AGE'] = data['AGE'].astype(int) #TRANSFORMANDO A IDADE EM INT\n",
    "\n",
    "data.info()"
   ]
  },
  {
   "cell_type": "code",
   "execution_count": null,
   "metadata": {},
   "outputs": [],
   "source": [
    "data.loc[data['NAME'] == 'Stephen Curry'] #LOCALIZAR O STEPHEN CURRY\n",
    "target = data.loc[data['NAME'] == \"Stephen Curry\"].copy()\n",
    "data.drop([103],inplace=True) #REMOVER O STEPHEN CURRY"
   ]
  },
  {
   "cell_type": "code",
   "execution_count": null,
   "metadata": {},
   "outputs": [],
   "source": [
    "plt.figure(figsize=(16,8))\n",
    "hm = sns.heatmap(data.corr(), annot=True, cmap=\"YlGnBu\") #\"YlGnBu\"\n"
   ]
  },
  {
   "cell_type": "code",
   "execution_count": null,
   "metadata": {},
   "outputs": [],
   "source": [
    "correlation = data.corr()\n",
    "relevant_cols = []\n",
    "salary_corr = correlation['SALARY'].to_dict()\n",
    "\n",
    "for item in salary_corr.items():\n",
    "    if item[1] > 0.3:\n",
    "        relevant_cols.append(item[0])\n",
    "\n",
    "relevant_cols"
   ]
  },
  {
   "cell_type": "code",
   "execution_count": null,
   "metadata": {},
   "outputs": [],
   "source": [
    "delete_rows = []\n",
    "\n",
    "for item in data.columns:\n",
    "    if item not in relevant_cols:\n",
    "        delete_rows.append(item)\n",
    "\n",
    "data.drop(columns=delete_rows,inplace=True)\n",
    "data"
   ]
  },
  {
   "cell_type": "code",
   "execution_count": null,
   "metadata": {},
   "outputs": [],
   "source": [
    "X = data.drop(columns=['SALARY']).copy()\n",
    "y = data['SALARY'].copy()   "
   ]
  },
  {
   "cell_type": "code",
   "execution_count": null,
   "metadata": {},
   "outputs": [],
   "source": [
    "X_train, X_test, y_train, y_test = train_test_split(X,y,test_size=0.2,random_state=80)\n",
    "X_train.info()"
   ]
  },
  {
   "cell_type": "code",
   "execution_count": null,
   "metadata": {},
   "outputs": [],
   "source": [
    "pipe = Pipeline([('scaler', StandardScaler())])\n",
    "\n",
    "X_train_transformed = pipe.fit_transform(X_train)\n",
    "\n",
    "plt.figure(figsize = (10, 6))\n"
   ]
  },
  {
   "cell_type": "code",
   "execution_count": null,
   "metadata": {},
   "outputs": [],
   "source": [
    "linreg_model = LinearRegression()\n",
    "\n",
    "scores = cross_val_score(linreg_model,X_train_transformed,y_train,scoring='neg_mean_squared_error',cv=4)\n",
    "lin_reg_rmse_score=np.sqrt(-scores)\n",
    "\n",
    "print(lin_reg_rmse_score)\n",
    "print(lin_reg_rmse_score.mean())\n",
    "print(lin_reg_rmse_score.std())"
   ]
  },
  {
   "cell_type": "code",
   "execution_count": null,
   "metadata": {},
   "outputs": [],
   "source": [
    "tree_model = DecisionTreeRegressor()\n",
    "\n",
    "scores=cross_val_score(tree_model,X_train_transformed,y_train,scoring='neg_mean_squared_error',cv=4)\n",
    "dec_tree_reg_rmse_score=np.sqrt(-scores)\n",
    "\n",
    "print(dec_tree_reg_rmse_score)\n",
    "print(dec_tree_reg_rmse_score.mean())\n",
    "print(dec_tree_reg_rmse_score.std())"
   ]
  },
  {
   "cell_type": "code",
   "execution_count": null,
   "metadata": {},
   "outputs": [],
   "source": [
    "rforest_model=RandomForestRegressor()\n",
    "\n",
    "scores=cross_val_score(rforest_model,X_train_transformed,y_train,scoring='neg_mean_squared_error',cv=4)\n",
    "rand_forest_reg_rmse_score=np.sqrt(-scores)\n",
    "\n",
    "print(rand_forest_reg_rmse_score)\n",
    "print(rand_forest_reg_rmse_score.mean())\n",
    "print(rand_forest_reg_rmse_score.std())"
   ]
  },
  {
   "cell_type": "code",
   "execution_count": null,
   "metadata": {},
   "outputs": [],
   "source": [
    "linreg_model.fit(X_train_transformed,y_train)\n",
    "\n",
    "X_test_transformed = pipe.fit_transform(X_test)\n",
    "\n",
    "predicted_salary = linreg_model.predict(X_test_transformed)\n",
    "\n",
    "linreg_model.score(X_test_transformed, y_test)"
   ]
  },
  {
   "cell_type": "code",
   "execution_count": null,
   "metadata": {},
   "outputs": [],
   "source": [
    "rand_forest_reg_rmse = np.sqrt(mean_squared_error(y_test, predicted_salary))\n",
    "\n",
    "print(rand_forest_reg_rmse)\n"
   ]
  },
  {
   "cell_type": "code",
   "execution_count": null,
   "metadata": {},
   "outputs": [],
   "source": [
    "for item in delete_rows:\n",
    "    target.drop(columns=item,inplace=True)\n",
    "\n",
    "y_target = target['SALARY'].copy()\n",
    "X_target = target.drop(columns=['SALARY']).copy()\n",
    "\n",
    "X_target_transformed = pipe.fit_transform(X_target)\n",
    "target_salary_predicted = linreg_model.predict(X_target_transformed)\n",
    "print('Salário justo é: ' + 'US${0:.2f}'.format(target_salary_predicted[0]) + ' O salário real é: US$' + y_target.to_string(index=False))\n"
   ]
  }
 ],
 "metadata": {
  "interpreter": {
   "hash": "e163f6dc755e3f5ee4e51757169cbf4c5bf61c999acb41dad94c865ecb280cf3"
  },
  "kernelspec": {
   "display_name": "Python 3.9.6 64-bit",
   "language": "python",
   "name": "python3"
  },
  "language_info": {
   "codemirror_mode": {
    "name": "ipython",
    "version": 3
   },
   "file_extension": ".py",
   "mimetype": "text/x-python",
   "name": "python",
   "nbconvert_exporter": "python",
   "pygments_lexer": "ipython3",
   "version": "3.9.6"
  },
  "orig_nbformat": 4
 },
 "nbformat": 4,
 "nbformat_minor": 2
}
