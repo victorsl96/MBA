{
 "cells": [
  {
   "cell_type": "markdown",
   "metadata": {},
   "source": [
    "Será que podemos comparar ideologias políticas a partir de tweets?\n",
    "\n",
    "ideologia: conjunto de convicções filosóficas, sociais, políticas etc. de um indivíduo ou grupo de indivíduos.\n",
    "\n",
    "Comparações:\n",
    "    - análise gráfica comparativa da frequência de palavras ou relacionadas a tópicos: \n",
    "        religião, educação, orientação sexual, identidade de gênero, economia, saúde, porte de armas, combate a pobreza\n",
    "            ex: Quantidade de tweets do Bolsonaro falando sobre drogas é muito maior que a do Lula, que mostra maior favor a política anti-drogas\n",
    "            (Buscar se a quantidade de palavras segue a mesma tendência)\n",
    "\n",
    "    -! análise comparativa de tweets antes e depois de eleições\n",
    "\n",
    "Observações:\n",
    "    - contam retweets? -> Usar a função clean() para filtrar"
   ]
  },
  {
   "cell_type": "markdown",
   "metadata": {},
   "source": [
    "Proximos passos:\n",
    "Otimizar função de limpeza -> lemanização e estemização para remoção de radicais\n",
    "Comparar temas por datas específicas"
   ]
  },
  {
   "cell_type": "code",
   "execution_count": null,
   "metadata": {},
   "outputs": [],
   "source": [
    "# Imports section\n",
    "import json\n",
    "import nltk\n",
    "import pandas as pd"
   ]
  },
  {
   "cell_type": "code",
   "execution_count": null,
   "metadata": {},
   "outputs": [],
   "source": [
    "def get_data():\n",
    "    '''Open and read dataset files, saving contents as raw data.'''\n",
    "    with open('dataset/jairbolsonaro.json','r') as file_01:\n",
    "        data_01=json.load(file_01)\n",
    "    with open('dataset/LulaOficial.json','r') as file_02:\n",
    "        data_02=json.load(file_02)\n",
    "        \n",
    "    return data_01,data_02\n",
    "# get_data()[0][0]"
   ]
  },
  {
   "cell_type": "code",
   "execution_count": null,
   "metadata": {},
   "outputs": [],
   "source": [
    "def extract_tweets():\n",
    "    '''Store tweets in lists without metadata'''\n",
    "    data_01,data_02 = get_data()\n",
    "    bolso_tweets = []\n",
    "    for el in data_01:\n",
    "        bolso_tweets.append(el['full_text'])\n",
    "\n",
    "    lula_tweets = []\n",
    "    for el in data_02:\n",
    "        lula_tweets.append(el['full_text'])\n",
    "        \n",
    "    return bolso_tweets, lula_tweets"
   ]
  },
  {
   "cell_type": "code",
   "execution_count": null,
   "metadata": {},
   "outputs": [],
   "source": [
    "def compare(bolso_tweets,lula_tweets,subject):\n",
    "    # Fix_01:Currently isn't useful because it is too restricted, doesn't account for synonyms and related words\n",
    "     \n",
    "    '''Compare tweets from both sides based on a subject'''\n",
    "    # Look into Bolsonaro's tweets for the subject and store tweets in a list\n",
    "    b_selected = []\n",
    "    for tweet in bolso_tweets:\n",
    "        if subject.lower() in tweet.lower():\n",
    "            b_selected.append(tweet)\n",
    "\n",
    "    # Look into Lula's tweets for the subject and store tweets in a list\n",
    "    l_selected = []\n",
    "    for tweet in lula_tweets:\n",
    "        if subject.lower() in tweet.lower():\n",
    "            l_selected.append(tweet)\n",
    "\n",
    "    # Create two series based on the selected tweets lists\n",
    "    b = pd.Series(b_selected,name='Bolsonaro')\n",
    "    l = pd.Series(l_selected,name='Lula')\n",
    "\n",
    "    # Create dataframe concatenating the two series\n",
    "    pd.set_option('display.max_colwidth', None)\n",
    "    df=pd.concat([b,l],axis=1)\n",
    "    \n",
    "    return df"
   ]
  },
  {
   "cell_type": "code",
   "execution_count": null,
   "metadata": {},
   "outputs": [],
   "source": [
    "def clean(tweet):\n",
    "    # Limited amount of stopwords, needs to remove links, emogis, replies, numbers\n",
    "    '''Remove stopwords from tweet'''\n",
    "    # nltk.download('stopwords')\n",
    "    stopwords = nltk.corpus.stopwords.words('portuguese')\n",
    "    sw_extended=['ser', 'ter', 'têm', 'havia']\n",
    "    stopwords.append(sw_extended)\n",
    "    for word in tweet: \n",
    "        if word in stopwords:\n",
    "            tweet.remove(word)\n",
    "    return tweet"
   ]
  },
  {
   "cell_type": "code",
   "execution_count": null,
   "metadata": {},
   "outputs": [],
   "source": [
    "def count_words(tweets,min=0):\n",
    "    '''Count the ocurrence of key words in the tweets'''\n",
    "    words={}\n",
    "    selected_words=[]\n",
    "    for tweet in tweets:\n",
    "        for word in clean(tweet.split()):\n",
    "            if word in words.keys():\n",
    "                words[word] += 1\n",
    "            else:\n",
    "                words[word] = 1\n",
    "\n",
    "                \n",
    "    # Filter the words into a list based on a minimum number of ocurrences\n",
    "    for word, ocurrence in words.items():\n",
    "        if ocurrence > min:\n",
    "            selected_words.append(word)\n",
    "\n",
    "    # return selected_words\n",
    "    return sorted(words,key=words.get,reverse=True)"
   ]
  },
  {
   "cell_type": "code",
   "execution_count": null,
   "metadata": {},
   "outputs": [],
   "source": [
    "bolso_tweets, lula_tweets = extract_tweets()\n",
    "count_words(bolso_tweets)"
   ]
  }
 ],
 "metadata": {
  "interpreter": {
   "hash": "e163f6dc755e3f5ee4e51757169cbf4c5bf61c999acb41dad94c865ecb280cf3"
  },
  "kernelspec": {
   "display_name": "Python 3.9.6 64-bit",
   "language": "python",
   "name": "python3"
  },
  "language_info": {
   "codemirror_mode": {
    "name": "ipython",
    "version": 3
   },
   "file_extension": ".py",
   "mimetype": "text/x-python",
   "name": "python",
   "nbconvert_exporter": "python",
   "pygments_lexer": "ipython3",
   "version": "3.9.7"
  },
  "orig_nbformat": 4
 },
 "nbformat": 4,
 "nbformat_minor": 2
}
