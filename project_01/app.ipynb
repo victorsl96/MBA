{
 "cells": [
  {
   "cell_type": "code",
   "execution_count": 7,
   "metadata": {},
   "outputs": [],
   "source": [
    "# Imports section\n",
    "import json\n",
    "import pandas as pd"
   ]
  },
  {
   "cell_type": "code",
   "execution_count": 8,
   "metadata": {},
   "outputs": [],
   "source": [
    "def get_data():\n",
    "    '''Open and read dataset files, saving contents as raw data.'''\n",
    "    with open('dataset/jairbolsonaro.json','r') as file_01:\n",
    "        data_01=json.load(file_01)\n",
    "    with open('dataset/LulaOficial.json','r') as file_02:\n",
    "        data_02=json.load(file_02)\n",
    "    return data_01,data_02"
   ]
  },
  {
   "cell_type": "code",
   "execution_count": 9,
   "metadata": {},
   "outputs": [],
   "source": [
    "def extract_tweets():\n",
    "    '''Store tweets in lists without metadata'''\n",
    "    data_01,data_02 = get_data()\n",
    "    bolso_tweets = []\n",
    "    for el in data_01:\n",
    "        bolso_tweets.append(el['full_text'])\n",
    "\n",
    "    lula_tweets = []\n",
    "    for el in data_02:\n",
    "        lula_tweets.append(el['full_text'])\n",
    "    return bolso_tweets, lula_tweets"
   ]
  },
  {
   "cell_type": "code",
   "execution_count": 10,
   "metadata": {},
   "outputs": [],
   "source": [
    "# Function to compare tweets based on a subject\n",
    "def compare(subject):\n",
    "    '''Compare tweets from both sides based on a subject'''\n",
    "    bolso_tweets,lula_tweets = extract_tweets()\n",
    "    # Look into Bolsonaro's tweets for the subject and store tweets in a list\n",
    "    b_selected = []\n",
    "    for tweet in bolso_tweets:\n",
    "        if subject.lower() in tweet.lower():\n",
    "            b_selected.append(tweet)\n",
    "\n",
    "    # Look into Lula's tweets for the subject and store tweets in a list\n",
    "    l_selected = []\n",
    "    for tweet in lula_tweets:\n",
    "        if subject.lower() in tweet.lower():\n",
    "            l_selected.append(tweet)\n",
    "\n",
    "    # Create two series based on the selected tweets lists\n",
    "    b = pd.Series(b_selected,name='Bolsonaro')\n",
    "    l = pd.Series(l_selected,name='Lula')\n",
    "\n",
    "    # Create dataframe concatenating the two series\n",
    "    pd.set_option('display.max_colwidth', None)\n",
    "    df=pd.concat([b,l],axis=1)\n",
    "    \n",
    "\n",
    "    return df"
   ]
  },
  {
   "cell_type": "code",
   "execution_count": 11,
   "metadata": {},
   "outputs": [],
   "source": [
    "def count_words(tweets,min):\n",
    "    '''Count the ocurrence of key words in the tweets'''\n",
    "    # Count the ocurrence of all words for each tweet\n",
    "    words={}\n",
    "    selected_words=[]\n",
    "    for tweet in tweets:\n",
    "        for word in tweet.split():\n",
    "            if word in words.keys():\n",
    "                words[word] += 1\n",
    "            else:\n",
    "                words[word] = 1\n",
    "    # Filter the words into a list based on a minimum number of ocurrences\n",
    "    for word, ocurrence in words.items():\n",
    "        if ocurrence > min:\n",
    "            selected_words.append(word)\n",
    "\n",
    "    return selected_words\n",
    "\n"
   ]
  },
  {
   "cell_type": "code",
   "execution_count": null,
   "metadata": {},
   "outputs": [],
   "source": [
    "count_words(extract_tweets()[0], 500) "
   ]
  }
 ],
 "metadata": {
  "interpreter": {
   "hash": "e163f6dc755e3f5ee4e51757169cbf4c5bf61c999acb41dad94c865ecb280cf3"
  },
  "kernelspec": {
   "display_name": "Python 3.9.6 64-bit",
   "language": "python",
   "name": "python3"
  },
  "language_info": {
   "codemirror_mode": {
    "name": "ipython",
    "version": 3
   },
   "file_extension": ".py",
   "mimetype": "text/x-python",
   "name": "python",
   "nbconvert_exporter": "python",
   "pygments_lexer": "ipython3",
   "version": "3.9.6"
  },
  "orig_nbformat": 4
 },
 "nbformat": 4,
 "nbformat_minor": 2
}
